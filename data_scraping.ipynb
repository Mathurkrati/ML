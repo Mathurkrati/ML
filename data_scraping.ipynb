{
  "nbformat": 4,
  "nbformat_minor": 0,
  "metadata": {
    "colab": {
      "name": "data_scraping.ipynb",
      "provenance": [],
      "authorship_tag": "ABX9TyNftYe11awyvdVXIOhozFIE",
      "include_colab_link": true
    },
    "kernelspec": {
      "name": "python3",
      "display_name": "Python 3"
    },
    "language_info": {
      "name": "python"
    }
  },
  "cells": [
    {
      "cell_type": "markdown",
      "metadata": {
        "id": "view-in-github",
        "colab_type": "text"
      },
      "source": [
        "<a href=\"https://colab.research.google.com/github/redashu/ML/blob/master/data_scraping.ipynb\" target=\"_parent\"><img src=\"https://colab.research.google.com/assets/colab-badge.svg\" alt=\"Open In Colab\"/></a>"
      ]
    },
    {
      "cell_type": "code",
      "metadata": {
        "id": "d5_hBcZ4MAE4"
      },
      "source": [
        "# writing code for connecting to a website and its server \n",
        "from urllib import request\n",
        "# creating a variable to send a request\n",
        "myurl=\"https://en.wikipedia.org/wiki/COVID-19\"\n",
        "\n",
        "data_server=request.urlopen(myurl)\n",
        "# checking all type of response \n",
        "#dir(data_server)\n",
        "# trying to read data\n",
        "#print(data_server.info())\n",
        "\n",
        "# Lets load bs4 module \n",
        "from bs4  import BeautifulSoup\n",
        "# calling bs module\n",
        "ud_data=BeautifulSoup(data_server,'html5lib')\n"
      ],
      "execution_count": 12,
      "outputs": []
    },
    {
      "cell_type": "code",
      "metadata": {
        "colab": {
          "base_uri": "https://localhost:8080/",
          "height": 380
        },
        "id": "gHO9gk4IQp0P",
        "outputId": "c3dc0354-6ae7-484d-c4a5-b3f434540448"
      },
      "source": [
        "# now lets only take data of paragraph tag \n",
        "\n",
        "data_only=ud_data.findAll('p')\n",
        "#print(data_only)\n",
        "# now converting into text data\n",
        "import time \n",
        "corona_data=\"\"\n",
        "for  i in data_only:\n",
        "  corona_data += i.text \n",
        "#print(corona_data)\n",
        "\n",
        "# converting string into list \n",
        "\n",
        "data1=[i for i in corona_data.split()]\n",
        "#print(data1)\n",
        "# now loading nltk module \n",
        "import nltk\n",
        "nltk.download('stopwords')\n",
        "from nltk.corpus  import stopwords \n",
        "\n",
        "# Now removing stop words \n",
        "good_data=[i for i in data1 if i.lower() not in stopwords.words('english')]\n",
        "#print(good_data)\n",
        "\n",
        "# making a graph to analys data \n",
        "smart_data=nltk.FreqDist(good_data)\n",
        "print(smart_data)\n",
        "smart_data.plot(20)\n",
        "\n",
        "\n",
        "\n",
        "\n"
      ],
      "execution_count": 23,
      "outputs": [
        {
          "output_type": "stream",
          "text": [
            "[nltk_data] Downloading package stopwords to /root/nltk_data...\n",
            "[nltk_data]   Package stopwords is already up-to-date!\n",
            "<FreqDist with 3282 samples and 6680 outcomes>\n"
          ],
          "name": "stdout"
        },
        {
          "output_type": "display_data",
          "data": {
            "image/png": "[encoded data removed]",
            "text/plain": [
              "<Figure size 432x288 with 1 Axes>"
            ]
          },
          "metadata": {
            "tags": [],
            "needs_background": "light"
          }
        }
      ]
    },
    {
      "cell_type": "code",
      "metadata": {
        "id": "V6tqdOw9RjZ-"
      },
      "source": [
        ""
      ],
      "execution_count": null,
      "outputs": []
    }
  ]
}