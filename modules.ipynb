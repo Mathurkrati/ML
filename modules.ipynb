{
  "nbformat": 4,
  "nbformat_minor": 0,
  "metadata": {
    "colab": {
      "name": "modules.ipynb",
      "provenance": [],
      "authorship_tag": "ABX9TyOQ/lfVsC1Kkdwi2nkT18Qf",
      "include_colab_link": true
    },
    "kernelspec": {
      "name": "python3",
      "display_name": "Python 3"
    },
    "language_info": {
      "name": "python"
    }
  },
  "cells": [
    {
      "cell_type": "markdown",
      "metadata": {
        "id": "view-in-github",
        "colab_type": "text"
      },
      "source": [
        "<a href=\"https://colab.research.google.com/github/redashu/ML/blob/master/modules.ipynb\" target=\"_parent\"><img src=\"https://colab.research.google.com/assets/colab-badge.svg\" alt=\"Open In Colab\"/></a>"
      ]
    },
    {
      "cell_type": "code",
      "metadata": {
        "colab": {
          "base_uri": "https://localhost:8080/"
        },
        "id": "ZGytcWAnD0j5",
        "outputId": "b62972ce-9cb2-40c6-e110-52a80ee297ce"
      },
      "source": [
        "import time\n",
        "for i in range(5):\n",
        "  print(\"well performance corona !!\")\n",
        "  time.sleep(2) # delay in seconds "
      ],
      "execution_count": 1,
      "outputs": [
        {
          "output_type": "stream",
          "text": [
            "well performance corona !!\n",
            "well performance corona !!\n",
            "well performance corona !!\n",
            "well performance corona !!\n",
            "well performance corona !!\n"
          ],
          "name": "stdout"
        }
      ]
    },
    {
      "cell_type": "code",
      "metadata": {
        "colab": {
          "base_uri": "https://localhost:8080/"
        },
        "id": "V32MZ6mbFLPh",
        "outputId": "d089376d-02ec-4ccd-d9bf-84603239038d"
      },
      "source": [
        "# checking cal in Cloud Operting system\n",
        "import subprocess\n",
        "out=subprocess.getoutput(\"cal 2021\")\n",
        "print(out)"
      ],
      "execution_count": 6,
      "outputs": [
        {
          "output_type": "stream",
          "text": [
            "                            2021\n",
            "      January               February               March          \n",
            "Su Mo Tu We Th Fr Sa  Su Mo Tu We Th Fr Sa  Su Mo Tu We Th Fr Sa  \n",
            "                1  2      1  2  3  4  5  6      1  2  3  4  5  6  \n",
            " 3  4  5  6  7  8  9   7  8  9 10 11 12 13   7  8  9 10 11 12 13  \n",
            "10 11 12 13 14 15 16  14 15 16 17 18 19 20  14 15 16 17 18 19 20  \n",
            "17 18 19 20 21 22 23  21 22 23 24 25 26 27  21 22 23 24 25 26 27  \n",
            "24 25 26 27 28 29 30  28                    28 29 30 31           \n",
            "31                                                                \n",
            "\n",
            "       April                  May                   June          \n",
            "Su Mo Tu We Th Fr Sa  Su Mo Tu We Th Fr Sa  Su Mo Tu We Th Fr Sa  \n",
            "             1  2  3                     1         1  2  3  4  5  \n",
            " 4  5  6  7  8  9 10   2  3  4  5  6  7  8   6  7  8  9 10 11 12  \n",
            "11 12 13 14 15 16 17   9 10 11 12 13 14 15  13 14 15 16 17 18 19  \n",
            "18 19 20 21 22 23 24  16 17 18 19 20 21 _\b2_\b2  20 21 22 23 24 25 26  \n",
            "25 26 27 28 29 30     23 24 25 26 27 28 29  27 28 29 30           \n",
            "                      30 31                                       \n",
            "\n",
            "        July                 August              September        \n",
            "Su Mo Tu We Th Fr Sa  Su Mo Tu We Th Fr Sa  Su Mo Tu We Th Fr Sa  \n",
            "             1  2  3   1  2  3  4  5  6  7            1  2  3  4  \n",
            " 4  5  6  7  8  9 10   8  9 10 11 12 13 14   5  6  7  8  9 10 11  \n",
            "11 12 13 14 15 16 17  15 16 17 18 19 20 21  12 13 14 15 16 17 18  \n",
            "18 19 20 21 22 23 24  22 23 24 25 26 27 28  19 20 21 22 23 24 25  \n",
            "25 26 27 28 29 30 31  29 30 31              26 27 28 29 30        \n",
            "                                                                  \n",
            "\n",
            "      October               November              December        \n",
            "Su Mo Tu We Th Fr Sa  Su Mo Tu We Th Fr Sa  Su Mo Tu We Th Fr Sa  \n",
            "                1  2      1  2  3  4  5  6            1  2  3  4  \n",
            " 3  4  5  6  7  8  9   7  8  9 10 11 12 13   5  6  7  8  9 10 11  \n",
            "10 11 12 13 14 15 16  14 15 16 17 18 19 20  12 13 14 15 16 17 18  \n",
            "17 18 19 20 21 22 23  21 22 23 24 25 26 27  19 20 21 22 23 24 25  \n",
            "24 25 26 27 28 29 30  28 29 30              26 27 28 29 30 31     \n",
            "31                                                                \n"
          ],
          "name": "stdout"
        }
      ]
    },
    {
      "cell_type": "code",
      "metadata": {
        "id": "KHc19XvPFbhH"
      },
      "source": [
        ""
      ],
      "execution_count": null,
      "outputs": []
    }
  ]
}