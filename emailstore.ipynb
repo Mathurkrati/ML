{
  "nbformat": 4,
  "nbformat_minor": 0,
  "metadata": {
    "colab": {
      "name": "emailstore.ipynb",
      "provenance": [],
      "authorship_tag": "ABX9TyOKtulO0uYCEd1d88T0QoFb",
      "include_colab_link": true
    },
    "kernelspec": {
      "name": "python3",
      "display_name": "Python 3"
    },
    "language_info": {
      "name": "python"
    }
  },
  "cells": [
    {
      "cell_type": "markdown",
      "metadata": {
        "id": "view-in-github",
        "colab_type": "text"
      },
      "source": [
        "<a href=\"https://colab.research.google.com/github/redashu/ML/blob/master/emailstore.ipynb\" target=\"_parent\"><img src=\"https://colab.research.google.com/assets/colab-badge.svg\" alt=\"Open In Colab\"/></a>"
      ]
    },
    {
      "cell_type": "code",
      "metadata": {
        "colab": {
          "base_uri": "https://localhost:8080/"
        },
        "id": "Hy6FV0Bm_-2l",
        "outputId": "78978711-083b-427a-f105-56648579a745"
      },
      "source": [
        "# Demo  for loop \n",
        "import time\n",
        "# above we are loading / activating time module /library \n",
        "for i in range(5):\n",
        "  # jo bhi kam ap krwana chahte \n",
        "  print(\"Hello\")"
      ],
      "execution_count": 4,
      "outputs": [
        {
          "output_type": "stream",
          "text": [
            "Hello\n",
            "Hello\n",
            "Hello\n",
            "Hello\n",
            "Hello\n"
          ],
          "name": "stdout"
        }
      ]
    },
    {
      "cell_type": "code",
      "metadata": {
        "colab": {
          "base_uri": "https://localhost:8080/"
        },
        "id": "L7HdPRVIAYqT",
        "outputId": "04b51ee5-6211-41b9-837c-5280ea282f6b"
      },
      "source": [
        "# adding emails into a list\n",
        "email_list=[] \n",
        "for i in range(5):\n",
        "  # asking users to type their email address\n",
        "  em=input(\"Hey enter your email ID : \")\n",
        "  # adding email into the list\n",
        "  email_list.append(em)\n",
        "\n",
        "# out of for loop \n",
        "print(email_list)\n",
        "\n",
        "\n"
      ],
      "execution_count": 5,
      "outputs": [
        {
          "output_type": "stream",
          "text": [
            "Hey enter your email ID : ashutoshh@linux.com\n",
            "Hey enter your email ID : ashutoshh@techinest.com\n",
            "Hey enter your email ID : hello@lnb.com\n",
            "Hey enter your email ID : fine@yahoo.com\n",
            "Hey enter your email ID : okkkgoogle@slack.com\n",
            "['ashutoshh@linux.com', 'ashutoshh@techinest.com', 'hello@lnb.com', 'fine@yahoo.com', 'okkkgoogle@slack.com']\n"
          ],
          "name": "stdout"
        }
      ]
    },
    {
      "cell_type": "code",
      "metadata": {
        "id": "CmbBCpunBhJR"
      },
      "source": [
        ""
      ],
      "execution_count": null,
      "outputs": []
    }
  ]
}