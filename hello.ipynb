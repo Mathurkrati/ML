{
  "nbformat": 4,
  "nbformat_minor": 0,
  "metadata": {
    "colab": {
      "name": "hello.ipynb",
      "provenance": [],
      "authorship_tag": "ABX9TyNF3lBJsrMXlbE0Z4W/wHEG",
      "include_colab_link": true
    },
    "kernelspec": {
      "name": "python3",
      "display_name": "Python 3"
    },
    "language_info": {
      "name": "python"
    }
  },
  "cells": [
    {
      "cell_type": "markdown",
      "metadata": {
        "id": "view-in-github",
        "colab_type": "text"
      },
      "source": [
        "<a href=\"https://colab.research.google.com/github/redashu/ML/blob/master/hello.ipynb\" target=\"_parent\"><img src=\"https://colab.research.google.com/assets/colab-badge.svg\" alt=\"Open In Colab\"/></a>"
      ]
    },
    {
      "cell_type": "code",
      "metadata": {
        "colab": {
          "base_uri": "https://localhost:8080/"
        },
        "id": "R5YcYxETxIS2",
        "outputId": "40f413b7-53fe-4039-9481-d767de83d932"
      },
      "source": [
        "print(\"Hello world\")\n",
        "# to print any message we are using print \n",
        "print(3+5)\n",
        "print(5*4)\n",
        "print(5.3*9)\n",
        "x=10 # here x is a variable \n",
        "print(x+3)\n",
        "type(x) # kis type ka data hai x k pass"
      ],
      "execution_count": 11,
      "outputs": [
        {
          "output_type": "stream",
          "text": [
            "Hello world\n",
            "8\n",
            "20\n",
            "47.699999999999996\n",
            "13\n"
          ],
          "name": "stdout"
        },
        {
          "output_type": "execute_result",
          "data": {
            "text/plain": [
              "int"
            ]
          },
          "metadata": {
            "tags": []
          },
          "execution_count": 11
        }
      ]
    },
    {
      "cell_type": "code",
      "metadata": {
        "colab": {
          "base_uri": "https://localhost:8080/"
        },
        "id": "eI6FhVxqzH73",
        "outputId": "ca0e7d0b-999d-4c8d-ece3-024c0ff6309d"
      },
      "source": [
        "# Variables \n",
        "a=100\n",
        "b=23.5\n",
        "c=\"hello guys hope you are doing great\"\n",
        "d=\"fine\"\n",
        "\n",
        "# task perform \n",
        "sum=a+b\n",
        "mul=a*b\n",
        "#sum1=a+d\n",
        "# Not execute / not to compile / not to run\n",
        "sum2=c+\" \"+d \n",
        "\n",
        "print(sum,\"   \",mul,sum2)\n",
        "print(d*4)"
      ],
      "execution_count": 22,
      "outputs": [
        {
          "output_type": "stream",
          "text": [
            "123.5     2350.0 hello guys hope you are doing great fine\n",
            "finefinefinefine\n"
          ],
          "name": "stdout"
        }
      ]
    },
    {
      "cell_type": "code",
      "metadata": {
        "colab": {
          "base_uri": "https://localhost:8080/"
        },
        "id": "1FAAhp8s1mXK",
        "outputId": "15a92ab1-ec19-42c2-9429-76c3a04db331"
      },
      "source": [
        "# High level operations in String \n",
        "s=\"fine\"\n",
        "'''\n",
        "print(s) # printing entire string \n",
        "print(s[0]) # first char of string \n",
        "print(s[2])\n",
        "print(s[0:3])\n",
        "print(s[1:])\n",
        "'''\n",
        "\n",
        "# lenght of string \n",
        "len(s)\n",
        "\n"
      ],
      "execution_count": 32,
      "outputs": [
        {
          "output_type": "execute_result",
          "data": {
            "text/plain": [
              "4"
            ]
          },
          "metadata": {
            "tags": []
          },
          "execution_count": 32
        }
      ]
    },
    {
      "cell_type": "code",
      "metadata": {
        "id": "MMJok3u94ZLu"
      },
      "source": [
        ""
      ],
      "execution_count": null,
      "outputs": []
    }
  ]
}